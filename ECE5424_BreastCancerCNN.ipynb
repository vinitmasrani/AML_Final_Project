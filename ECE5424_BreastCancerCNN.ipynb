{
  "cells": [
    {
      "cell_type": "code",
      "execution_count": 2,
      "metadata": {
        "id": "zlqoG8_voZcp"
      },
      "outputs": [],
      "source": [
        "import numpy as np\n",
        "import seaborn as sns\n",
        "import pandas as pd\n",
        "import matplotlib.pyplot as plt\n",
        "import cv2\n",
        "import seaborn as sns\n",
        "from keras_preprocessing.image import ImageDataGenerator\n",
        "from sklearn.preprocessing import LabelEncoder\n",
        "import albumentations as A\n",
        "from tensorflow.keras.utils import Sequence\n",
        "from sklearn.model_selection import train_test_split\n",
        "from google.colab.patches import cv2_imshow\n",
        "import skimage.exposure\n",
        "import os"
      ]
    },
    {
      "cell_type": "code",
      "execution_count": 3,
      "metadata": {
        "colab": {
          "base_uri": "https://localhost:8080/"
        },
        "id": "gUaCrTxVog03",
        "outputId": "a5eef4d7-8535-4eaa-e6df-0582a30df6fa"
      },
      "outputs": [
        {
          "output_type": "stream",
          "name": "stdout",
          "text": [
            "Mounted at /content/gdrive/\n"
          ]
        }
      ],
      "source": [
        "from google.colab import drive\n",
        "\n",
        "drive.mount(\"/content/gdrive/\")"
      ]
    },
    {
      "cell_type": "code",
      "execution_count": 4,
      "metadata": {
        "id": "wXoLY1FXojuh"
      },
      "outputs": [],
      "source": [
        "train=pd.read_csv(\"/content/gdrive/MyDrive/VT Studies/SEM 1/ECE5424_AML/mammography_images/Training_set.csv\")\n",
        "test=pd.read_csv(\"/content/gdrive/MyDrive/VT Studies/SEM 1/ECE5424_AML/mammography_images/Testing_set.csv\")\n",
        "sub=pd.read_csv(\"/content/gdrive/MyDrive/VT Studies/SEM 1/ECE5424_AML/mammography_images/sample_submission.csv\")"
      ]
    },
    {
      "cell_type": "code",
      "execution_count": 5,
      "metadata": {
        "id": "lBpGtJawos4L"
      },
      "outputs": [],
      "source": [
        "from PIL import Image, ImageEnhance\n",
        "from numpy import random\n",
        "\n",
        "# No preprocessing. Just normalizing to pass to CNN\n",
        "def preprocess(image):\n",
        "    kernel = np.array([[0,-1,0], [-1,5,-1], [0,-1,0]])\n",
        "    im = cv2.filter2D(image, -1, kernel)\n",
        "    #out2 = skimage.exposure.rescale_intensity(im, in_range=(150,200), out_range=(0,255))\n",
        "    #print(type(im))\n",
        "    out1=(cv2.normalize(im, (224,224),0, 255, cv2.NORM_MINMAX))\n",
        "    #print(type(out1))\n",
        "    return out1\n",
        "\n",
        "# Has preprocessing.\n",
        "def preprocess2(image):\n",
        "    kernel = np.array([[0,-1,0], [-1,5,-1], [0,-1,0]])\n",
        "    image = Image.fromarray(np.uint8(image))\n",
        "    image = ImageEnhance.Brightness(image).enhance(random.uniform(0.8,1.2))\n",
        "    image = ImageEnhance.Contrast(image).enhance(random.uniform(0.8,1.2))\n",
        "    image = ImageEnhance.Sharpness(image).enhance(random.uniform(0.8,1.2))\n",
        "    image = np.array(image)\n",
        "    image = cv2.filter2D(image, -1, kernel)\n",
        "    out1=(cv2.normalize(image, (224,224),0, 255, cv2.NORM_MINMAX))\n",
        "    out1 = out1.astype(np.float64)\n",
        "    return out1"
      ]
    },
    {
      "cell_type": "code",
      "execution_count": 6,
      "metadata": {
        "id": "rIZiMhFVoyxV"
      },
      "outputs": [],
      "source": [
        "X_train, X_valid = train_test_split(train, test_size=0.1,stratify=train[\"label\"],shuffle=True)"
      ]
    },
    {
      "cell_type": "code",
      "execution_count": 7,
      "metadata": {
        "id": "gq8Un9O-o10P"
      },
      "outputs": [],
      "source": [
        "datagen_p1=ImageDataGenerator(rescale=1./255,preprocessing_function=preprocess)"
      ]
    },
    {
      "cell_type": "code",
      "execution_count": 8,
      "metadata": {
        "colab": {
          "base_uri": "https://localhost:8080/"
        },
        "id": "-L0uRU4Fo5NC",
        "outputId": "2cdd8c2f-164b-4f0b-d6d5-a5587ebe681d"
      },
      "outputs": [
        {
          "output_type": "stream",
          "name": "stdout",
          "text": [
            "Found 5151 validated image filenames belonging to 8 classes.\n"
          ]
        }
      ],
      "source": [
        "# Creates an iterator for training images\n",
        "train_generator_p1=datagen_p1.flow_from_dataframe(\n",
        "dataframe=X_train,\n",
        "directory=\"/content/gdrive/MyDrive/VT Studies/SEM 1/ECE5424_AML/mammography_images/train\",\n",
        "x_col=\"filename\",\n",
        "y_col=\"label\",\n",
        "batch_size=32,\n",
        "seed=42,\n",
        "shuffle=True,\n",
        "class_mode=\"categorical\",\n",
        "target_size=(224,224))"
      ]
    },
    {
      "cell_type": "code",
      "source": [
        "# Showing iteration use to show training mammogram images\n",
        "x,y = train_generator_p1.next()\n",
        "for i in range(1):\n",
        "    image = x[i]\n",
        "    plt.figure(figsize=(10,10))\n",
        "    plt.imshow(image.astype('float32'))\n",
        "    print(image.shape)\n",
        "    cv2.imwrite(\"before_pp.jpg\", image.astype('float32'))\n",
        "    #print(y[i])\n",
        "   \n",
        "plt.show()"
      ],
      "metadata": {
        "colab": {
          "base_uri": "https://localhost:8080/",
          "height": 629
        },
        "id": "tvYRuR0v0Bhg",
        "outputId": "f48adc2c-f6e6-49a1-e317-eab23b90765f"
      },
      "execution_count": 9,
      "outputs": [
        {
          "output_type": "stream",
          "name": "stderr",
          "text": [
            "WARNING:matplotlib.image:Clipping input data to the valid range for imshow with RGB data ([0..1] for floats or [0..255] for integers).\n"
          ]
        },
        {
          "output_type": "stream",
          "name": "stdout",
          "text": [
            "(224, 224, 3)\n"
          ]
        },
        {
          "output_type": "display_data",
          "data": {
            "text/plain": [
              "<Figure size 720x720 with 1 Axes>"
            ],
            "image/png": "[encoded data removed]"
          },
          "metadata": {
            "needs_background": "light"
          }
        }
      ]
    },
    {
      "cell_type": "code",
      "execution_count": null,
      "metadata": {
        "colab": {
          "base_uri": "https://localhost:8080/"
        },
        "id": "RKMZYNKJo9K8",
        "outputId": "459226d2-e635-4e10-ea77-e97a1dd44ae2"
      },
      "outputs": [
        {
          "output_type": "stream",
          "name": "stdout",
          "text": [
            "Found 573 validated image filenames belonging to 8 classes.\n"
          ]
        }
      ],
      "source": [
        "# Valid data iterator\n",
        "valid_datagen_p1=ImageDataGenerator(rescale=1./255.,preprocessing_function=preprocess)\n",
        "valid_generator_p1=valid_datagen_p1.flow_from_dataframe( \n",
        "dataframe=X_valid,\n",
        "directory=\"/content/gdrive/MyDrive/VT Studies/SEM 1/ECE5424_AML/mammography_images/train\",\n",
        "x_col=\"filename\",\n",
        "y_col=\"label\",\n",
        "batch_size=32,\n",
        "seed=42,\n",
        "shuffle=True,\n",
        "class_mode=\"categorical\",\n",
        "target_size=(224,224))"
      ]
    },
    {
      "cell_type": "code",
      "source": [
        "# Training data iterator for preprocessed images\n",
        "datagen_p2=ImageDataGenerator(rescale=1./255,preprocessing_function=preprocess2)\n",
        "train_generator_p2=datagen_p2.flow_from_dataframe(\n",
        "dataframe=X_train,\n",
        "directory=\"/content/gdrive/MyDrive/VT Studies/SEM 1/ECE5424_AML/mammography_images/train\",\n",
        "x_col=\"filename\",\n",
        "y_col=\"label\",\n",
        "batch_size=32,\n",
        "seed=42,\n",
        "shuffle=True,\n",
        "class_mode=\"categorical\",\n",
        "target_size=(224,224))"
      ],
      "metadata": {
        "colab": {
          "base_uri": "https://localhost:8080/"
        },
        "id": "wjAvTYwnbV0n",
        "outputId": "03e85759-03ea-4193-c1e4-18932352c33c"
      },
      "execution_count": null,
      "outputs": [
        {
          "output_type": "stream",
          "name": "stdout",
          "text": [
            "Found 5151 validated image filenames belonging to 8 classes.\n"
          ]
        }
      ]
    },
    {
      "cell_type": "code",
      "source": [
        "x,y = train_generator_p2.next()\n",
        "for i in range(1):\n",
        "    image = x[i]\n",
        "    plt.figure(figsize=(10,10))\n",
        "    plt.imshow(image.astype('float32'))\n",
        "    print(image.shape)\n",
        "    cv2.imwrite(\"after_pp.jpg\", image.astype('float32'))\n",
        "   \n",
        "plt.show()"
      ],
      "metadata": {
        "id": "gmvdvctpbiwh"
      },
      "execution_count": null,
      "outputs": []
    },
    {
      "cell_type": "code",
      "source": [
        "# Valid iterator for preprocessed images\n",
        "valid_datagen_p2=ImageDataGenerator(rescale=1./255.,preprocessing_function=preprocess2)\n",
        "valid_generator_p2=valid_datagen_p2.flow_from_dataframe( \n",
        "dataframe=X_valid,\n",
        "directory=\"/content/gdrive/MyDrive/VT Studies/SEM 1/ECE5424_AML/mammography_images/train\",\n",
        "x_col=\"filename\",\n",
        "y_col=\"label\",\n",
        "batch_size=32,\n",
        "seed=42,\n",
        "shuffle=True,\n",
        "class_mode=\"categorical\",\n",
        "target_size=(224,224))"
      ],
      "metadata": {
        "colab": {
          "base_uri": "https://localhost:8080/"
        },
        "id": "GGTKI3Tzbn-H",
        "outputId": "17c385f3-3373-41da-effa-17a47a9f6a14"
      },
      "execution_count": null,
      "outputs": [
        {
          "output_type": "stream",
          "name": "stdout",
          "text": [
            "Found 573 validated image filenames belonging to 8 classes.\n"
          ]
        }
      ]
    },
    {
      "cell_type": "code",
      "execution_count": null,
      "metadata": {
        "id": "VT58w3SEpDyy"
      },
      "outputs": [],
      "source": [
        "from tensorflow.keras.layers import Dense, Flatten, GlobalAveragePooling2D, BatchNormalization, Dropout,AveragePooling2D\n",
        "from tensorflow.keras.applications.resnet import ResNet50\n",
        "import tensorflow as tf\n",
        "from tensorflow.keras.applications import InceptionV3,DenseNet201,EfficientNetB7, MobileNetV2,Xception,VGG16,NASNetMobile\n",
        "from keras.applications.inception_resnet_v2 import InceptionResNetV2\n",
        "from tensorflow.keras.callbacks import ModelCheckpoint, EarlyStopping, ReduceLROnPlateau\n",
        "from keras.models import Model\n",
        "from keras.models import Sequential\n",
        "from keras.regularizers import *\n",
        "from tensorflow import keras\n",
        "from tensorflow.keras import layers"
      ]
    },
    {
      "cell_type": "code",
      "execution_count": null,
      "metadata": {
        "id": "G2M2zXOopHYh"
      },
      "outputs": [],
      "source": [
        "STEP_SIZE_TRAIN=train_generator_p1.n//train_generator_p1.batch_size\n",
        "STEP_SIZE_VALID=valid_generator_p1.n//valid_generator_p1.batch_size"
      ]
    },
    {
      "cell_type": "code",
      "execution_count": null,
      "metadata": {
        "id": "S1TOpIeOpKDO"
      },
      "outputs": [],
      "source": [
        "# Training CNN with unprocessed images\n",
        "model = keras.Sequential([\n",
        "    keras.layers.Conv2D(32, 3, activation='relu',\n",
        "                        input_shape=((224,224,3))),\n",
        "    #keras.layers.Conv2D(32, 3, activation='relu'),\n",
        "    keras.layers.Flatten(),\n",
        "    keras.layers.Dense(8, activation='softmax')\n",
        "])\n",
        " \n",
        "# Compiling the model\n",
        "# model.compile(optimizer='adam',\n",
        "#               loss=keras.losses.SparseCategoricalCrossentropy(),\n",
        "#               metrics=['accuracy'])\n",
        " \n",
        "model.compile(optimizer =tf.keras.optimizers.Adam(learning_rate=0.0001,decay=0.0001),metrics=[\"accuracy\"],loss= tf.keras.losses.CategoricalCrossentropy(label_smoothing=0.1))\n",
        "\n",
        "# Fitting the model with data\n",
        "model.fit(\n",
        "        train_generator_p1,\n",
        "        steps_per_epoch=STEP_SIZE_TRAIN,\n",
        "        epochs=5,\n",
        "        validation_data=valid_generator_p1,\n",
        "        validation_steps=STEP_SIZE_VALID)"
      ]
    },
    {
      "cell_type": "code",
      "source": [
        "model.evaluate(valid_generator_p1,verbose=1)"
      ],
      "metadata": {
        "id": "5MlSH8Pe2Gou"
      },
      "execution_count": null,
      "outputs": []
    },
    {
      "cell_type": "code",
      "source": [
        "pred1 = model.predict(valid_generator_p1)"
      ],
      "metadata": {
        "id": "a3y4l5Xo2Hrc"
      },
      "execution_count": null,
      "outputs": []
    },
    {
      "cell_type": "code",
      "source": [
        "predicted_labels = [np.argmax(i) for i in pred1]\n",
        "print(len(predicted_labels))"
      ],
      "metadata": {
        "id": "VyJZCzh72KIh"
      },
      "execution_count": null,
      "outputs": []
    },
    {
      "cell_type": "code",
      "source": [
        "actual_labels = (np.array(valid_generator_p1.labels))\n",
        "print(len(actual_labels))"
      ],
      "metadata": {
        "id": "ogo8_VFN2Mwo"
      },
      "execution_count": null,
      "outputs": []
    },
    {
      "cell_type": "code",
      "source": [
        "false_negatives = []\n",
        "\n",
        "for i in range(len(actual_labels)):\n",
        "  if predicted_labels[i] != actual_labels[i] and predicted_labels[i]%2==0:\n",
        "    false_negatives.append(i)\n",
        "\n",
        "print(false_negatives)\n",
        "\n",
        "print(predicted_labels[1])"
      ],
      "metadata": {
        "id": "8Uz4dv0M2SY5"
      },
      "execution_count": null,
      "outputs": []
    },
    {
      "cell_type": "code",
      "source": [
        "STEP_SIZE_TRAIN=train_generator_p2.n//train_generator_p2.batch_size\n",
        "STEP_SIZE_VALID=valid_generator_p2.n//valid_generator_p2.batch_size"
      ],
      "metadata": {
        "id": "Rzd3DO8IcRl4"
      },
      "execution_count": null,
      "outputs": []
    },
    {
      "cell_type": "code",
      "source": [
        "# Training CNN for preprocessed images\n",
        "model = keras.Sequential([\n",
        "    keras.layers.Conv2D(32, 3, activation='relu',\n",
        "                        input_shape=((224,224,3))),\n",
        "    #keras.layers.Conv2D(32, 3, activation='relu'),\n",
        "    keras.layers.Flatten(),\n",
        "    keras.layers.Dense(8, activation='softmax')\n",
        "])\n",
        " \n",
        "# Compiling the model\n",
        "# model.compile(optimizer='adam',\n",
        "#               loss=keras.losses.SparseCategoricalCrossentropy(),\n",
        "#               metrics=['accuracy'])\n",
        " \n",
        "model.compile(optimizer =tf.keras.optimizers.Adam(learning_rate=0.0001,decay=0.0001),metrics=[\"accuracy\"],loss= tf.keras.losses.CategoricalCrossentropy(label_smoothing=0.1))\n",
        "\n",
        "# Fitting the model with data\n",
        "history = model.fit(\n",
        "        train_generator_p2,\n",
        "        steps_per_epoch=STEP_SIZE_TRAIN,\n",
        "        epochs=5,\n",
        "        validation_data=valid_generator_p2,\n",
        "        validation_steps=STEP_SIZE_VALID)"
      ],
      "metadata": {
        "id": "AuZ51f8RcUd8"
      },
      "execution_count": null,
      "outputs": []
    },
    {
      "cell_type": "code",
      "source": [
        "# CNN learning curve\n",
        "plt.plot(history.history['accuracy'])\n",
        "plt.plot(history.history['val_accuracy'])\n",
        "plt.title('model accuracy')\n",
        "plt.ylabel('accuracy')\n",
        "plt.xlabel('epoch')\n",
        "plt.legend(['train', 'val'], loc='upper left')\n",
        "plt.show()"
      ],
      "metadata": {
        "id": "r6Ezei-tuv4F"
      },
      "execution_count": null,
      "outputs": []
    },
    {
      "cell_type": "code",
      "source": [
        "model.evaluate(valid_generator_p2,verbose=1)"
      ],
      "metadata": {
        "colab": {
          "base_uri": "https://localhost:8080/"
        },
        "id": "TNsvrMKmE-zS",
        "outputId": "64f3d571-e0a2-441b-a980-a024abb6bca0"
      },
      "execution_count": null,
      "outputs": [
        {
          "output_type": "stream",
          "name": "stdout",
          "text": [
            "18/18 [==============================] - 11s 608ms/step - loss: 0.8373 - accuracy: 0.8918\n"
          ]
        },
        {
          "output_type": "execute_result",
          "data": {
            "text/plain": [
              "[0.8372977375984192, 0.8917975425720215]"
            ]
          },
          "metadata": {},
          "execution_count": 20
        }
      ]
    },
    {
      "cell_type": "code",
      "source": [
        "model.summary()"
      ],
      "metadata": {
        "colab": {
          "base_uri": "https://localhost:8080/"
        },
        "id": "1p2AIhiNTtOm",
        "outputId": "b8db9985-5fbb-4125-b28a-b531fb3275f5"
      },
      "execution_count": null,
      "outputs": [
        {
          "output_type": "stream",
          "name": "stdout",
          "text": [
            "Model: \"sequential\"\n",
            "_________________________________________________________________\n",
            " Layer (type)                Output Shape              Param #   \n",
            "=================================================================\n",
            " conv2d (Conv2D)             (None, 222, 222, 32)      896       \n",
            "                                                                 \n",
            " flatten (Flatten)           (None, 1577088)           0         \n",
            "                                                                 \n",
            " dense (Dense)               (None, 8)                 12616712  \n",
            "                                                                 \n",
            "=================================================================\n",
            "Total params: 12,617,608\n",
            "Trainable params: 12,617,608\n",
            "Non-trainable params: 0\n",
            "_________________________________________________________________\n"
          ]
        }
      ]
    },
    {
      "cell_type": "code",
      "source": [
        "# Displaying CNN kernels\n",
        "layer= model.layers\n",
        "filters, biases= model.layers[0].get_weights()\n",
        "print(layer[0].name, filters.shape) #filter shape (3, 3, 3, 32) <-- 3 X 3== kernel size, 3== RGB channels, 32== number of filters for that convolutional layer, here layer[0]\n",
        "\n",
        "fig1=plt.figure(figsize=(8, 12))\n",
        "columns = 4\n",
        "rows = 8\n",
        "n_filters = columns * rows\n",
        "for i in range(1, n_filters +1):\n",
        "    f = filters[:, :, :, i-1]\n",
        "    fig1 =plt.subplot(rows, columns, i)\n",
        "    fig1.set_xticks([])  #Turn off axis\n",
        "    fig1.set_yticks([])\n",
        "    plt.imshow(f[:, :, 0], cmap='gray') #Show only the filters from 0th channel (R)\n",
        "    #ix += 1\n",
        "plt.show()   "
      ],
      "metadata": {
        "colab": {
          "base_uri": "https://localhost:8080/",
          "height": 705
        },
        "id": "jThd1XqYcrxG",
        "outputId": "aaed6725-c5c4-4f5a-cb40-def53a0a3079"
      },
      "execution_count": null,
      "outputs": [
        {
          "output_type": "stream",
          "name": "stdout",
          "text": [
            "conv2d (3, 3, 3, 32)\n"
          ]
        },
        {
          "output_type": "display_data",
          "data": {
            "text/plain": [
              "<Figure size 576x864 with 32 Axes>"
            ],
            "image/png": "[encoded data removed]"
          },
          "metadata": {}
        }
      ]
    },
    {
      "cell_type": "code",
      "source": [
        "pred1 = model.predict(valid_generator_p2)"
      ],
      "metadata": {
        "colab": {
          "base_uri": "https://localhost:8080/"
        },
        "id": "-5Gabehnkjir",
        "outputId": "922fa142-b459-48bf-8b47-36fa3b5d9013"
      },
      "execution_count": null,
      "outputs": [
        {
          "output_type": "stream",
          "name": "stdout",
          "text": [
            "18/18 [==============================] - 10s 531ms/step\n"
          ]
        }
      ]
    },
    {
      "cell_type": "code",
      "source": [
        "predicted_labels = [np.argmax(i) for i in pred1]\n",
        "print(len(predicted_labels))"
      ],
      "metadata": {
        "colab": {
          "base_uri": "https://localhost:8080/"
        },
        "id": "p8i_hnIEG2ka",
        "outputId": "ba5e7111-71ff-4a85-b2d3-df5ad48a6b57"
      },
      "execution_count": null,
      "outputs": [
        {
          "output_type": "stream",
          "name": "stdout",
          "text": [
            "573\n"
          ]
        }
      ]
    },
    {
      "cell_type": "code",
      "source": [
        "actual_labels = (np.array(valid_generator_p2.labels))\n",
        "print(len(actual_labels))"
      ],
      "metadata": {
        "colab": {
          "base_uri": "https://localhost:8080/"
        },
        "id": "aqEIZ19kYJGh",
        "outputId": "d8be0667-286a-42fe-acf8-8fad55d30916"
      },
      "execution_count": null,
      "outputs": [
        {
          "output_type": "stream",
          "name": "stdout",
          "text": [
            "573\n"
          ]
        }
      ]
    },
    {
      "cell_type": "code",
      "source": [
        "from sklearn import metrics\n",
        "\n",
        "print(metrics.confusion_matrix(actual_labels, predicted_labels))"
      ],
      "metadata": {
        "colab": {
          "base_uri": "https://localhost:8080/"
        },
        "id": "iaF-ugkTpjZF",
        "outputId": "0ca8a0c0-4f5d-409a-c31f-313c4dcc7a6b"
      },
      "execution_count": null,
      "outputs": [
        {
          "output_type": "stream",
          "name": "stdout",
          "text": [
            "[[ 2 22  3 20  9  3  6  0]\n",
            " [18 53  5 47 17 14  7  1]\n",
            " [ 2  6  1  9  1  1  2  0]\n",
            " [16 68  4 59 12  8  5  1]\n",
            " [11 17  3 21  9  4  4  1]\n",
            " [ 5 11  2 10  8  5  2  0]\n",
            " [ 5 11  0 11  0  5  1  0]\n",
            " [ 1  1  0  2  1  0  0  0]]\n"
          ]
        }
      ]
    },
    {
      "cell_type": "code",
      "source": [
        "false_negatives = []\n",
        "\n",
        "for i in range(len(actual_labels)):\n",
        "  if predicted_labels[i] != actual_labels[i] and predicted_labels[i]%2==0:\n",
        "    false_negatives.append(i)\n",
        "\n",
        "print(false_negatives)\n",
        "\n",
        "print(predicted_labels[1])"
      ],
      "metadata": {
        "colab": {
          "base_uri": "https://localhost:8080/"
        },
        "id": "Mu35qMIqiGI1",
        "outputId": "0baa1336-3389-461b-d8ed-57131cc6c352"
      },
      "execution_count": null,
      "outputs": [
        {
          "output_type": "stream",
          "name": "stdout",
          "text": [
            "[3, 4, 10, 23, 26, 27, 28, 33, 35, 36, 41, 47, 62, 64, 68, 69, 71, 74, 75, 78, 80, 89, 94, 99, 101, 102, 106, 107, 127, 132, 134, 137, 141, 147, 151, 154, 155, 158, 167, 168, 177, 178, 188, 191, 192, 203, 205, 206, 208, 214, 235, 238, 241, 244, 252, 254, 276, 283, 287, 289, 293, 295, 297, 298, 303, 306, 312, 313, 315, 318, 319, 324, 325, 326, 330, 332, 335, 337, 339, 349, 352, 353, 354, 358, 359, 360, 363, 364, 365, 366, 367, 374, 380, 383, 391, 400, 403, 404, 410, 411, 413, 415, 417, 422, 426, 431, 433, 434, 437, 441, 446, 447, 452, 453, 456, 457, 465, 472, 474, 475, 476, 479, 480, 481, 482, 487, 492, 493, 498, 499, 503, 506, 507, 508, 515, 516, 526, 528, 529, 538, 549, 554, 559, 567, 568, 572]\n",
            "3\n"
          ]
        }
      ]
    }
  ],
  "metadata": {
    "colab": {
      "provenance": []
    },
    "kernelspec": {
      "display_name": "Python 3",
      "name": "python3"
    },
    "language_info": {
      "name": "python"
    }
  },
  "nbformat": 4,
  "nbformat_minor": 0
}